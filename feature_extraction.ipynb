{
 "cells": [
  {
   "cell_type": "code",
   "execution_count": null,
   "metadata": {},
   "outputs": [],
   "source": [
    "\"\"\" \n",
    "This file generates feature_extraction_inception_v3\n",
    "because this is a time consuming operation, \n",
    "feature_extraction_inception_v3 can be downloaded from internet.\n",
    "\"\"\"\n",
    "import os\n",
    "import sys\n",
    "import tensorflow as tf\n",
    "from tensorflow import gfile\n",
    "from tensorflow import logging\n",
    "import pprint\n",
    "import _pickle as cPickle # for python 3\n",
    "import numpy as np\n",
    "\n",
    "model_file = \"./data/inception_v3_graph_def.pb\"\n",
    "input_description_file = \"./data/results_20130124.token\"\n",
    "input_img_dir = \"./data/flickr30k_images/\"  \n",
    "output_folder = \"./data/feature_extraction_inception_v3\"  # get from flickr30K_images,\n",
    "\n",
    "batch_size = 100\n",
    "\n",
    "if not gfile.Exists(output_folder):\n",
    "    gfile.MakeDirs(output_folder)\n",
    "\n",
    "\n",
    "def parse_token_file(token_file):\n",
    "    \"\"\"Parses token file into a dict with \n",
    "    key: img_name, value: a list of descriptions\"\"\"\n",
    "    img_name_to_tokens = {}\n",
    "    with gfile.GFile(token_file, 'r') as f:\n",
    "        lines = f.readlines()\n",
    "    for line in lines:\n",
    "        img_id, description = line.strip('\\r\\n').split('\\t')\n",
    "        img_name, _ = img_id.split('#')\n",
    "        img_name_to_tokens.setdefault(img_name, [])\n",
    "        img_name_to_tokens[img_name].append(description)\n",
    "    return img_name_to_tokens\n",
    "\n",
    "img_name_to_tokens = parse_token_file(input_description_file)\n",
    "all_img_names = img_name_to_tokens.keys()"
   ]
  },
  {
   "cell_type": "code",
   "execution_count": null,
   "metadata": {},
   "outputs": [],
   "source": [
    "pprint.pprint(img_name_to_tokens)\n",
    "logging.info(\"num of all images: %d\" % len(all_img_names))\n",
    "pprint.pprint(list(img_name_to_tokens.keys())[0:5])\n",
    "pprint.pprint(img_name_to_tokens['2778832101.jpg'])"
   ]
  },
  {
   "cell_type": "code",
   "execution_count": null,
   "metadata": {
    "collapsed": true
   },
   "outputs": [],
   "source": [
    "def load_pretrained_inception_v3(model_file):\n",
    "    \"\"\"get v3 graph\"\"\"\n",
    "    with gfile.FastGFile(model_file, \"rb\") as f:\n",
    "        graph_def = tf.GraphDef()  # empty graph\n",
    "        graph_def.ParseFromString(f.read())  # read v3 graph\n",
    "        _ = tf.import_graph_def(graph_def, name=\"\")  # put v3 graph to default graph\n",
    "load_pretrained_inception_v3(model_file)"
   ]
  },
  {
   "cell_type": "code",
   "execution_count": null,
   "metadata": {
    "collapsed": true
   },
   "outputs": [],
   "source": [
    "\"\"\"Run  this graph\"\"\"\n",
    "num_batches = int(len(all_img_names) / batch_size)\n",
    "if len(all_img_names) % batch_size != 0:\n",
    "    num_batches += 1\n",
    "\n",
    "with tf.Session() as sess:\n",
    "    # we use second to last layer as the ouput(feature)  1*1*2048\n",
    "    second_to_last_tensor = sess.graph.get_tensor_by_name(\"pool_3:0\")\n",
    "    \n",
    "    for i in range(num_batches):\n",
    "        batch_img_names = all_img_names[i*batch_size: (i+1)*batch_size]\n",
    "        batch_features = []\n",
    "        for img_name in batch_img_names:\n",
    "            img_path = os.path.join(input_img_dir, img_name)\n",
    "            logging.info(\"processing img %s\" % img_name)\n",
    "            if not gfile.Exists(img_path):\n",
    "                raise Exception(\"%s doesn't exists\" % img_path)\n",
    "                \n",
    "                \n",
    "            img_data = gfile.FastGFile(img_path, \"rb\").read()\n",
    "            feature_vector = sess.run(second_to_last_tensor,\n",
    "                                      feed_dict = {\"DecodeJpeg/contents:0\": img_data})\n",
    "            batch_features.append(feature_vector)\n",
    "            \n",
    "        batch_features = np.vstack(batch_features)\n",
    "        output_filename = os.path.join(output_folder, \"image_features-%d.pickle\" % i)\n",
    "        logging.info(\"writing to file %s\" % output_filename)\n",
    "        with gfile.GFile(output_filename, 'w') as f:\n",
    "            cPickle.dump((batch_img_names, batch_features), f)"
   ]
  },
  {
   "cell_type": "code",
   "execution_count": null,
   "metadata": {
    "collapsed": true
   },
   "outputs": [],
   "source": []
  }
 ],
 "metadata": {
  "kernelspec": {
   "display_name": "Python 3",
   "language": "python",
   "name": "python3"
  },
  "language_info": {
   "codemirror_mode": {
    "name": "ipython",
    "version": 3
   },
   "file_extension": ".py",
   "mimetype": "text/x-python",
   "name": "python",
   "nbconvert_exporter": "python",
   "pygments_lexer": "ipython3",
   "version": "3.6.3"
  }
 },
 "nbformat": 4,
 "nbformat_minor": 2
}
